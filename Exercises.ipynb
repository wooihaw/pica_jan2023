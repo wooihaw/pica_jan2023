{
 "cells": [
  {
   "cell_type": "markdown",
   "id": "74ab0700",
   "metadata": {},
   "source": [
    "# Python Programming Exercises"
   ]
  },
  {
   "cell_type": "markdown",
   "id": "78c38836",
   "metadata": {},
   "source": [
    "### Exercise 1\n",
    "Write a program to solve a classic puzzle: There are 35 heads and 94 legs among the chickens and rabbits in a farm. How many rabbits and how many chickens do we have? Hint: Use for loop to iterate all possible solutions"
   ]
  },
  {
   "cell_type": "code",
   "execution_count": 2,
   "id": "14429ce0",
   "metadata": {},
   "outputs": [
    {
     "name": "stdout",
     "output_type": "stream",
     "text": [
      "There are 23 chickens and 12 rabbits.\n"
     ]
    }
   ],
   "source": [
    "# Number of chickens: c\n",
    "# Number of rabbits: r\n",
    "# c + r = 35\n",
    "# 2*c + 4*r = 94\n",
    "\n",
    "for r in range(36):  # try from 0 rabbit to 35 rabbits\n",
    "    c = 35 - r  # The number of chickens\n",
    "    if 2*c + 4*r == 94:\n",
    "        print(f\"There are {c} chickens and {r} rabbits.\")\n",
    "        break  # stop after a solution is found"
   ]
  },
  {
   "cell_type": "markdown",
   "id": "00d5ed6e",
   "metadata": {},
   "source": [
    "### Exercise 2\n",
    "In this exercise, the task is to read a set of temperature data (the monthly high temperatures at Heathrow Airport from Jan 1948 through Dec 2016) from a file and then find some basic information: the highest and lowest temperatures, the mean (average) temperature, and the median temperature (the temperature in the middle if all the temperatures are sorted). The temperature data is in the file “data/Heathrow.txt”."
   ]
  },
  {
   "cell_type": "code",
   "execution_count": 8,
   "id": "834aaae2",
   "metadata": {},
   "outputs": [
    {
     "name": "stdout",
     "output_type": "stream",
     "text": [
      "Minimum: 0.8, \n",
      "            maximum: 28.2, \n",
      "            mean: 14.848309178743966,\n",
      "            median: 14.7\n"
     ]
    }
   ],
   "source": [
    "def mean(data):\n",
    "    '''A funtion to calculate and return the mean value of a list'''\n",
    "    return sum(data)/len(data)\n",
    "\n",
    "def median(data):\n",
    "    '''A function to calculate and return the median value of a list'''\n",
    "    sdata = sorted(data)\n",
    "    n = len(sdata)\n",
    "    if n%2 == 0:  # even number of items in the list\n",
    "        med = (sdata[n//2 - 1] + sdata[n//2]) / 2\n",
    "    else:  # odd number of items in the list\n",
    "        med = sdata[n//2]\n",
    "    return med\n",
    "\n",
    "with open('data/Heathrow.txt', 'r') as f:\n",
    "    raw_data = f.read()\n",
    "    data = raw_data.split('\\n')\n",
    "    temperatures = [float(i) for i in data if i != ''] \n",
    "    temperatures.sort()\n",
    "    print(f'''Minimum: {temperatures[0]}, \n",
    "            maximum: {temperatures[-1]}, \n",
    "            mean: {mean(temperatures)},\n",
    "            median: {median(temperatures)}''')\n",
    "    \n",
    "    "
   ]
  },
  {
   "cell_type": "markdown",
   "id": "cfcc5c07",
   "metadata": {},
   "source": [
    "### Exercise 3\n",
    "For the problem in Exercise 1, use NumPy by applying linear algebra to find the solution."
   ]
  },
  {
   "cell_type": "code",
   "execution_count": 10,
   "id": "5b59253e",
   "metadata": {},
   "outputs": [
    {
     "name": "stdout",
     "output_type": "stream",
     "text": [
      "There are 23 chickens and 12 rabbits.\n"
     ]
    }
   ],
   "source": [
    "import numpy as np\n",
    "\n",
    "# Equations\n",
    "# c + r = 35\n",
    "# 2c + 4r = 94\n",
    "\n",
    "coeffs = np.array([[1, 1], [2, 4]])\n",
    "depvars = np.array([35, 94])\n",
    "c, r = np.linalg.solve(coeffs, depvars)\n",
    "\n",
    "print(f\"There are {c:.0f} chickens and {r:.0f} rabbits.\")"
   ]
  },
  {
   "cell_type": "markdown",
   "id": "cddd0ae9",
   "metadata": {},
   "source": [
    "### Exercise 4\n",
    "Solve Exercise 2 by using NumPy."
   ]
  },
  {
   "cell_type": "code",
   "execution_count": 11,
   "id": "1faa015d",
   "metadata": {},
   "outputs": [
    {
     "name": "stdout",
     "output_type": "stream",
     "text": [
      "Minimum: 0.8,\n",
      "maximum: 28.2,\n",
      "mean: 14.848309178743962,\n",
      "median: 14.7\n"
     ]
    }
   ],
   "source": [
    "import numpy as np\n",
    "temperatures = np.loadtxt(\"data/Heathrow.txt\")\n",
    "\n",
    "print(f'''Minimum: {np.min(temperatures)},\n",
    "maximum: {np.max(temperatures)},\n",
    "mean: {np.mean(temperatures)},\n",
    "median: {np.median(temperatures)}''')"
   ]
  },
  {
   "attachments": {},
   "cell_type": "markdown",
   "id": "97255668",
   "metadata": {},
   "source": [
    "### Exercise 5\n",
    "Solve Exercise 2 by using Pandas. In addition, find out the hottest month between 1948 and 2016. Plot the mean temperature for each month."
   ]
  },
  {
   "cell_type": "code",
   "execution_count": 15,
   "id": "3311ec3b",
   "metadata": {},
   "outputs": [
    {
     "name": "stdout",
     "output_type": "stream",
     "text": [
      "             Temp\n",
      "min      0.800000\n",
      "max     28.200000\n",
      "mean    14.848309\n",
      "median  14.700000\n",
      "Hottest year and month: 2006-07\n"
     ]
    },
    {
     "data": {
      "image/png": "[encoded data removed]",
      "text/plain": [
       "<Figure size 640x480 with 1 Axes>"
      ]
     },
     "metadata": {},
     "output_type": "display_data"
    }
   ],
   "source": [
    "import pandas as pd\n",
    "import matplotlib.pyplot as plt\n",
    "\n",
    "# read data into a Pandas DataFrame object \n",
    "df = pd.read_csv('data/Heathrow.txt', header=None, names=['Temp'])\n",
    "\n",
    "# Calculate and print the min, max, mean and median of the data\n",
    "print(df.aggregate(['min', 'max', 'mean', 'median']))\n",
    "\n",
    "# Set the index to a range of date, increment by month\n",
    "df.index = pd.period_range(start=1948, periods=len(df), freq='M')\n",
    "\n",
    "# Sort the data by temperatures in ascending order\n",
    "df.sort_values(by=['Temp'], inplace=True)\n",
    "print(f\"Hottest year and month: {df.index[-1]}\")  # Print the date and highest temperature\n",
    "\n",
    "# Export Dataframe to csv file\n",
    "df.to_csv('temperatures_date.csv', index_label='Date')\n",
    "\n",
    "# Plot average temperature for each month from 1948 to 2016\n",
    "groups = df.groupby(df.index.month)\n",
    "groups.mean().plot.bar(color='green')\n",
    "plt.grid(axis='y')\n",
    "plt.show()\n",
    "\n"
   ]
  },
  {
   "cell_type": "markdown",
   "id": "f2ec789a",
   "metadata": {},
   "source": [
    "### Exercise 6\n",
    "Plot two cycles of a sinusoidal voltage waveform with an amplitude of 2 and frequency of 50Hz and a DC offset of 5V. Calculate the average voltage and root mean square (RMS) voltage."
   ]
  },
  {
   "cell_type": "code",
   "execution_count": null,
   "id": "64f05ca5",
   "metadata": {},
   "outputs": [],
   "source": []
  },
  {
   "cell_type": "markdown",
   "id": "0bcccd92",
   "metadata": {},
   "source": [
    "### Exercise 7\n",
    "Below are the data points of a sawtooth current:\\\n",
    "    f2 = 50\\\n",
    "    t2 = np.linspace(0, 0.04, 41)\\\n",
    "    i = 2 * (f2 * t2 - np.floor(0.5 + f2 * t2)) + 1\n",
    "\n",
    "Plot the current and the power if the voltage is as shown in Exercise 6."
   ]
  },
  {
   "cell_type": "code",
   "execution_count": null,
   "id": "f09397df",
   "metadata": {},
   "outputs": [],
   "source": []
  },
  {
   "cell_type": "markdown",
   "id": "ecf4531b",
   "metadata": {},
   "source": [
    "### Exercise 8\n",
    "A voltage waveform has been downloaded from an oscilloscope by using PyVISA. The waveform is stored in the CSV file format and the file can be accessed as 'data/waveform_data.csv'. Load and plot the waveform from the CSV file."
   ]
  },
  {
   "cell_type": "code",
   "execution_count": null,
   "id": "b53e91d0",
   "metadata": {
    "scrolled": true
   },
   "outputs": [],
   "source": []
  }
 ],
 "metadata": {
  "kernelspec": {
   "display_name": "base",
   "language": "python",
   "name": "python3"
  },
  "language_info": {
   "codemirror_mode": {
    "name": "ipython",
    "version": 3
   },
   "file_extension": ".py",
   "mimetype": "text/x-python",
   "name": "python",
   "nbconvert_exporter": "python",
   "pygments_lexer": "ipython3",
   "version": "3.9.13"
  },
  "vscode": {
   "interpreter": {
    "hash": "2c5918469e49105848d957a4c324f3922194f18ad77dee60a22830da768349c5"
   }
  }
 },
 "nbformat": 4,
 "nbformat_minor": 5
}
